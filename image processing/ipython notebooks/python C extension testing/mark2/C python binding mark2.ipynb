{
 "cells": [
  {
   "cell_type": "code",
   "execution_count": 1,
   "metadata": {
    "collapsed": false
   },
   "outputs": [],
   "source": [
    "working_directory = '/users/ironstein/documents/projects working directory/handwriting recognition using neural networks on FPGA final year project/image processing/ipython notebooks/python C extension testing/mark2'\n",
    "\n",
    "import os\n",
    "import time\n",
    "import matplotlib.pyplot as plt\n",
    "%matplotlib inline\n",
    "\n",
    "os.chdir(working_directory)"
   ]
  },
  {
   "cell_type": "code",
   "execution_count": 2,
   "metadata": {
    "collapsed": false
   },
   "outputs": [
    {
     "name": "stdout",
     "output_type": "stream",
     "text": [
      "Overwriting test.c\n"
     ]
    }
   ],
   "source": [
    "%%file test.c\n",
    "\n",
    "#include <stdio.h>\n",
    "\n",
    "void for_loop_test(int n) {\n",
    "    int i;\n",
    "    for(i=0;i<n;i++);\n",
    "}"
   ]
  },
  {
   "cell_type": "markdown",
   "metadata": {},
   "source": [
    "###generating shared object for the above C file (test.so)"
   ]
  },
  {
   "cell_type": "code",
   "execution_count": 3,
   "metadata": {
    "collapsed": false
   },
   "outputs": [
    {
     "name": "stdout",
     "output_type": "stream",
     "text": [
      "test.so: Mach-O 64-bit dynamically linked shared library x86_64\r\n"
     ]
    }
   ],
   "source": [
    "os.system('cd ' + working_directory)\n",
    "!clang -c test.c\n",
    "!clang -o test.so -shared test.c\n",
    "!file test.so"
   ]
  },
  {
   "cell_type": "markdown",
   "metadata": {},
   "source": [
    "###python file to access the functions in test.so shared library"
   ]
  },
  {
   "cell_type": "code",
   "execution_count": 4,
   "metadata": {
    "collapsed": false
   },
   "outputs": [
    {
     "name": "stdout",
     "output_type": "stream",
     "text": [
      "Overwriting _test.py\n"
     ]
    }
   ],
   "source": [
    "%%file _test.py\n",
    "\n",
    "import numpy\n",
    "import ctypes\n",
    "\n",
    "_test_ = numpy.ctypeslib.load_library('test','.')\n",
    "_test_.for_loop_test.argtypes = [ctypes.c_int]\n",
    "_test_.for_loop_test.restype = ctypes.c_void_p\n",
    "\n",
    "def C_for_test(n) : \n",
    "    _test_.for_loop_test(n)"
   ]
  },
  {
   "cell_type": "code",
   "execution_count": 5,
   "metadata": {
    "collapsed": true
   },
   "outputs": [],
   "source": [
    "def Python_for_test(n) : \n",
    "    for i in range(n) : \n",
    "        pass"
   ]
  },
  {
   "cell_type": "markdown",
   "metadata": {},
   "source": [
    "###decorator for calculating time of execution of a function"
   ]
  },
  {
   "cell_type": "code",
   "execution_count": 6,
   "metadata": {
    "collapsed": true
   },
   "outputs": [],
   "source": [
    "def time_this_function(function) : \n",
    "    try : \n",
    "        time\n",
    "    except : \n",
    "        import time\n",
    "    \n",
    "    def wrapper_function(*args,**kwargs) : \n",
    "        start_time = time.time()\n",
    "        function(*args,**kwargs)\n",
    "        elapsed_time = (time.time() - start_time)*1000\n",
    "#         print(elapsed_time,end=' ms\\n')\n",
    "        return(elapsed_time)\n",
    "        \n",
    "    return wrapper_function"
   ]
  },
  {
   "cell_type": "markdown",
   "metadata": {},
   "source": [
    "###testing Python and C functions for comparing the performance"
   ]
  },
  {
   "cell_type": "code",
   "execution_count": null,
   "metadata": {
    "collapsed": false
   },
   "outputs": [],
   "source": [
    "import _test\n",
    "\n",
    "@time_this_function\n",
    "def C_test(n) : \n",
    "    _test.C_for_test(n)\n",
    "    \n",
    "@time_this_function\n",
    "def Python_test(n) : \n",
    "    Python_for_test(n)\n",
    "    "
   ]
  },
  {
   "cell_type": "markdown",
   "metadata": {},
   "source": [
    "###time to compare the difference"
   ]
  },
  {
   "cell_type": "code",
   "execution_count": null,
   "metadata": {
    "collapsed": false
   },
   "outputs": [],
   "source": [
    "C_time_array = []\n",
    "Python_time_array = []\n",
    "count_array = []\n",
    "i = 1\n",
    "while(True) : \n",
    "    C_time_array.append(C_test(i))\n",
    "    Python_time_array.append(Python_test(i))\n",
    "    count_array.append(i)\n",
    "    i *= 10\n",
    "    if(i > 1000000000) : \n",
    "        break"
   ]
  },
  {
   "cell_type": "code",
   "execution_count": 11,
   "metadata": {
    "collapsed": false
   },
   "outputs": [
    {
     "data": {
      "image/png": "[encoded data removed]",
      "text/plain": [
       "<matplotlib.figure.Figure at 0x10585c630>"
      ]
     },
     "metadata": {},
     "output_type": "display_data"
    }
   ],
   "source": [
    "plt.plot(C_time_array,count_array,Python_time_array,count_array)\n",
    "plt.show()"
   ]
  },
  {
   "cell_type": "code",
   "execution_count": 12,
   "metadata": {
    "collapsed": false
   },
   "outputs": [
    {
     "ename": "ImportError",
     "evalue": "No module named 'graphlab'",
     "output_type": "error",
     "traceback": [
      "\u001b[0;31m---------------------------------------------------------------------------\u001b[0m",
      "\u001b[0;31mImportError\u001b[0m                               Traceback (most recent call last)",
      "\u001b[0;32m<ipython-input-12-4b66ad388e97>\u001b[0m in \u001b[0;36m<module>\u001b[0;34m()\u001b[0m\n\u001b[0;32m----> 1\u001b[0;31m \u001b[0;32mimport\u001b[0m \u001b[0mgraphlab\u001b[0m\u001b[0;34m\u001b[0m\u001b[0m\n\u001b[0m",
      "\u001b[0;31mImportError\u001b[0m: No module named 'graphlab'"
     ]
    }
   ],
   "source": [
    "import graphlab"
   ]
  },
  {
   "cell_type": "code",
   "execution_count": null,
   "metadata": {
    "collapsed": true
   },
   "outputs": [],
   "source": []
  }
 ],
 "metadata": {
  "kernelspec": {
   "display_name": "Python 3",
   "language": "python",
   "name": "python3"
  },
  "language_info": {
   "codemirror_mode": {
    "name": "ipython",
    "version": 3
   },
   "file_extension": ".py",
   "mimetype": "text/x-python",
   "name": "python",
   "nbconvert_exporter": "python",
   "pygments_lexer": "ipython3",
   "version": "3.4.3"
  }
 },
 "nbformat": 4,
 "nbformat_minor": 0
}
