{
 "cells": [
  {
   "cell_type": "code",
   "execution_count": null,
   "metadata": {
    "collapsed": true
   },
   "outputs": [],
   "source": [
    "working_directory = '/users/ironstein/documents/projects working directory/handwriting recognition using neural networks on FPGA final year project/image processing/ipython notebooks/python C extension testing/mark3'\n",
    "\n",
    "import os\n",
    "import time\n",
    "import graphlab as gl\n",
    "gl.canvas.set_target('ipynb')\n",
    "\n",
    "os.chdir(working_directory)"
   ]
  },
  {
   "cell_type": "code",
   "execution_count": null,
   "metadata": {
    "collapsed": false
   },
   "outputs": [],
   "source": [
    "%%file test.c\n",
    "\n",
    "#include <stdio.h>\n",
    "\n",
    "void for_loop_test(int n) {\n",
    "    int i;\n",
    "    for(i=0;i<n;i++);\n",
    "}"
   ]
  },
  {
   "cell_type": "markdown",
   "metadata": {},
   "source": [
    "###generating shared object for the above C file (test.so)\n"
   ]
  },
  {
   "cell_type": "code",
   "execution_count": null,
   "metadata": {
    "collapsed": false
   },
   "outputs": [],
   "source": [
    "os.system('cd ' + working_directory)\n",
    "!clang -c test.c\n",
    "!clang -o test.so -shared test.c\n",
    "!file test.so"
   ]
  },
  {
   "cell_type": "markdown",
   "metadata": {},
   "source": [
    "###python file to access the functions in test.so shared library"
   ]
  },
  {
   "cell_type": "code",
   "execution_count": null,
   "metadata": {
    "collapsed": false
   },
   "outputs": [],
   "source": [
    "%%file _test.py\n",
    "\n",
    "import numpy\n",
    "import ctypes\n",
    "\n",
    "_test_ = numpy.ctypeslib.load_library('test','.')\n",
    "_test_.for_loop_test.argtypes = [ctypes.c_int]\n",
    "_test_.for_loop_test.restype = ctypes.c_void_p\n",
    "\n",
    "def C_for_test(n) : \n",
    "    _test_.for_loop_test(n)"
   ]
  },
  {
   "cell_type": "code",
   "execution_count": null,
   "metadata": {
    "collapsed": true
   },
   "outputs": [],
   "source": [
    "def Python_for_test(n) : \n",
    "    for i in range(n) : \n",
    "        pass"
   ]
  },
  {
   "cell_type": "markdown",
   "metadata": {},
   "source": [
    "###decorator for calculating time of execution of a function"
   ]
  },
  {
   "cell_type": "code",
   "execution_count": null,
   "metadata": {
    "collapsed": true
   },
   "outputs": [],
   "source": [
    "def time_this_function(function) : \n",
    "    try : \n",
    "        time\n",
    "    except : \n",
    "        import time\n",
    "    \n",
    "    def wrapper_function(*args,**kwargs) : \n",
    "        start_time = time.time()\n",
    "        function(*args,**kwargs)\n",
    "        elapsed_time = (time.time() - start_time)*1000\n",
    "#         print(elapsed_time,end=' ms\\n')\n",
    "        return(elapsed_time)\n",
    "        \n",
    "    return wrapper_function"
   ]
  },
  {
   "cell_type": "markdown",
   "metadata": {},
   "source": [
    "###testing Python and C functions for comparing the performance"
   ]
  },
  {
   "cell_type": "code",
   "execution_count": null,
   "metadata": {
    "collapsed": true
   },
   "outputs": [],
   "source": [
    "import _test\n",
    "\n",
    "@time_this_function\n",
    "def C_test(n) : \n",
    "    _test.C_for_test(n)\n",
    "    \n",
    "@time_this_function\n",
    "def Python_test(n) : \n",
    "    Python_for_test(n)"
   ]
  },
  {
   "cell_type": "markdown",
   "metadata": {},
   "source": [
    "###time to compare the difference"
   ]
  },
  {
   "cell_type": "code",
   "execution_count": null,
   "metadata": {
    "collapsed": true
   },
   "outputs": [],
   "source": [
    "C_time_array = []\n",
    "Python_time_array = []\n",
    "count_array = []\n",
    "i = 1\n",
    "while(True) : \n",
    "    C_time_array.append(C_test(i))\n",
    "    Python_time_array.append(Python_test(i))\n",
    "    count_array.append(i)\n",
    "    i *= 10\n",
    "    if(i > 1000000000) : \n",
    "        break"
   ]
  },
  {
   "cell_type": "markdown",
   "metadata": {
    "collapsed": true
   },
   "source": [
    "###generate a CSV (comma seperated values) file for the recorded data, to be used in Graphlab Create"
   ]
  },
  {
   "cell_type": "code",
   "execution_count": null,
   "metadata": {
    "collapsed": false
   },
   "outputs": [],
   "source": [
    "def generate_csv(name='default.csv',**kwargs) : \n",
    "    csv_file = open(name,'w')\n",
    "    \n",
    "    keys = kwargs.keys()\n",
    "    values = kwargs.values()\n",
    "    \n",
    "    for key in keys[:-1] : \n",
    "        csv_file.write(key),\n",
    "        csv_file.write(','),\n",
    "    csv_file.write(keys[-1])\n",
    "    csv_file.write('\\n')\n",
    "\n",
    "    for i in range(len(values[0])) : \n",
    "        for j in range(len(values)-1) : \n",
    "            csv_file.write(str(values[j][i])),\n",
    "            csv_file.write(','),\n",
    "        csv_file.write(str(values[len(values)-1][i]))\n",
    "        csv_file.write('\\n')\n",
    "        \n",
    "    csv_file.close()"
   ]
  },
  {
   "cell_type": "code",
   "execution_count": null,
   "metadata": {
    "collapsed": false
   },
   "outputs": [],
   "source": [
    "generate_csv(name='test.csv',c_time = C_time_array,python_time = Python_time_array)\n",
    "g = gl.SFrame('test.csv')\n",
    "g"
   ]
  },
  {
   "cell_type": "code",
   "execution_count": null,
   "metadata": {
    "collapsed": false
   },
   "outputs": [],
   "source": [
    "g.show(view='Line Chart', x='c_time',y='python_time')"
   ]
  },
  {
   "cell_type": "code",
   "execution_count": null,
   "metadata": {
    "collapsed": true
   },
   "outputs": [],
   "source": []
  }
 ],
 "metadata": {
  "kernelspec": {
   "display_name": "Python 2",
   "language": "python",
   "name": "python2"
  },
  "language_info": {
   "codemirror_mode": {
    "name": "ipython",
    "version": 2
   },
   "file_extension": ".py",
   "mimetype": "text/x-python",
   "name": "python",
   "nbconvert_exporter": "python",
   "pygments_lexer": "ipython2",
   "version": "2.7.10"
  }
 },
 "nbformat": 4,
 "nbformat_minor": 0
}
